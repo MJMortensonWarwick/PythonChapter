{
 "cells": [
  {
   "cell_type": "code",
   "execution_count": 4,
   "metadata": {},
   "outputs": [
    {
     "data": {
      "text/html": [
       "<div>\n",
       "<style scoped>\n",
       "    .dataframe tbody tr th:only-of-type {\n",
       "        vertical-align: middle;\n",
       "    }\n",
       "\n",
       "    .dataframe tbody tr th {\n",
       "        vertical-align: top;\n",
       "    }\n",
       "\n",
       "    .dataframe thead th {\n",
       "        text-align: right;\n",
       "    }\n",
       "</style>\n",
       "<table border=\"1\" class=\"dataframe\">\n",
       "  <thead>\n",
       "    <tr style=\"text-align: right;\">\n",
       "      <th></th>\n",
       "      <th>PassengerId</th>\n",
       "      <th>Survived</th>\n",
       "      <th>Pclass</th>\n",
       "      <th>Name</th>\n",
       "      <th>Sex</th>\n",
       "      <th>Age</th>\n",
       "      <th>SibSp</th>\n",
       "      <th>Parch</th>\n",
       "      <th>Ticket</th>\n",
       "      <th>Fare</th>\n",
       "      <th>Cabin</th>\n",
       "      <th>Embarked</th>\n",
       "      <th>EmbarkC</th>\n",
       "      <th>EmbarkQ</th>\n",
       "      <th>EmbarkS</th>\n",
       "    </tr>\n",
       "  </thead>\n",
       "  <tbody>\n",
       "    <tr>\n",
       "      <td>0</td>\n",
       "      <td>1</td>\n",
       "      <td>0</td>\n",
       "      <td>0</td>\n",
       "      <td>Braund, Mr. Owen Harris</td>\n",
       "      <td>0</td>\n",
       "      <td>22.0</td>\n",
       "      <td>1</td>\n",
       "      <td>0</td>\n",
       "      <td>A/5 21171</td>\n",
       "      <td>7.2500</td>\n",
       "      <td>NaN</td>\n",
       "      <td>EmbarkS</td>\n",
       "      <td>0</td>\n",
       "      <td>0</td>\n",
       "      <td>1</td>\n",
       "    </tr>\n",
       "    <tr>\n",
       "      <td>1</td>\n",
       "      <td>2</td>\n",
       "      <td>1</td>\n",
       "      <td>2</td>\n",
       "      <td>Cumings, Mrs. John Bradley (Florence Briggs Th...</td>\n",
       "      <td>1</td>\n",
       "      <td>38.0</td>\n",
       "      <td>1</td>\n",
       "      <td>0</td>\n",
       "      <td>PC 17599</td>\n",
       "      <td>71.2833</td>\n",
       "      <td>C85</td>\n",
       "      <td>EmbarkC</td>\n",
       "      <td>1</td>\n",
       "      <td>0</td>\n",
       "      <td>0</td>\n",
       "    </tr>\n",
       "    <tr>\n",
       "      <td>2</td>\n",
       "      <td>3</td>\n",
       "      <td>1</td>\n",
       "      <td>0</td>\n",
       "      <td>Heikkinen, Miss. Laina</td>\n",
       "      <td>1</td>\n",
       "      <td>26.0</td>\n",
       "      <td>0</td>\n",
       "      <td>0</td>\n",
       "      <td>STON/O2. 3101282</td>\n",
       "      <td>7.9250</td>\n",
       "      <td>NaN</td>\n",
       "      <td>EmbarkS</td>\n",
       "      <td>0</td>\n",
       "      <td>0</td>\n",
       "      <td>1</td>\n",
       "    </tr>\n",
       "    <tr>\n",
       "      <td>3</td>\n",
       "      <td>4</td>\n",
       "      <td>1</td>\n",
       "      <td>2</td>\n",
       "      <td>Futrelle, Mrs. Jacques Heath (Lily May Peel)</td>\n",
       "      <td>1</td>\n",
       "      <td>35.0</td>\n",
       "      <td>1</td>\n",
       "      <td>0</td>\n",
       "      <td>113803</td>\n",
       "      <td>53.1000</td>\n",
       "      <td>C123</td>\n",
       "      <td>EmbarkS</td>\n",
       "      <td>0</td>\n",
       "      <td>0</td>\n",
       "      <td>1</td>\n",
       "    </tr>\n",
       "    <tr>\n",
       "      <td>4</td>\n",
       "      <td>5</td>\n",
       "      <td>0</td>\n",
       "      <td>0</td>\n",
       "      <td>Allen, Mr. William Henry</td>\n",
       "      <td>0</td>\n",
       "      <td>35.0</td>\n",
       "      <td>0</td>\n",
       "      <td>0</td>\n",
       "      <td>373450</td>\n",
       "      <td>8.0500</td>\n",
       "      <td>NaN</td>\n",
       "      <td>EmbarkS</td>\n",
       "      <td>0</td>\n",
       "      <td>0</td>\n",
       "      <td>1</td>\n",
       "    </tr>\n",
       "  </tbody>\n",
       "</table>\n",
       "</div>"
      ],
      "text/plain": [
       "   PassengerId  Survived  Pclass  \\\n",
       "0            1         0       0   \n",
       "1            2         1       2   \n",
       "2            3         1       0   \n",
       "3            4         1       2   \n",
       "4            5         0       0   \n",
       "\n",
       "                                                Name  Sex   Age  SibSp  Parch  \\\n",
       "0                            Braund, Mr. Owen Harris    0  22.0      1      0   \n",
       "1  Cumings, Mrs. John Bradley (Florence Briggs Th...    1  38.0      1      0   \n",
       "2                             Heikkinen, Miss. Laina    1  26.0      0      0   \n",
       "3       Futrelle, Mrs. Jacques Heath (Lily May Peel)    1  35.0      1      0   \n",
       "4                           Allen, Mr. William Henry    0  35.0      0      0   \n",
       "\n",
       "             Ticket     Fare Cabin Embarked  EmbarkC  EmbarkQ  EmbarkS  \n",
       "0         A/5 21171   7.2500   NaN  EmbarkS        0        0        1  \n",
       "1          PC 17599  71.2833   C85  EmbarkC        1        0        0  \n",
       "2  STON/O2. 3101282   7.9250   NaN  EmbarkS        0        0        1  \n",
       "3            113803  53.1000  C123  EmbarkS        0        0        1  \n",
       "4            373450   8.0500   NaN  EmbarkS        0        0        1  "
      ]
     },
     "execution_count": 4,
     "metadata": {},
     "output_type": "execute_result"
    }
   ],
   "source": [
    "### Decision tree ###\n",
    "\n",
    "# read data\n",
    "import pandas as pd\n",
    "import numpy as np\n",
    "titanic = pd.read_csv(\"titanic.csv\", sep = \",\", encoding = \"ISO-8859-1\")\n",
    "\n",
    "# convert string values to numeric\n",
    "titanic['Pclass'] = np.where(titanic['Pclass'] == 'Upper', 2, \n",
    "                             np.where(titanic['Pclass'] == 'Middle', 1, 0))\n",
    "titanic['Survived'] = np.where(titanic['Survived'] == 'Survived', 1, 0)\n",
    "titanic['Sex'] = np.where(titanic['Sex'] == 'female', 1, 0)\n",
    "\n",
    "# create dummy variables\n",
    "dummies = pd.get_dummies(titanic['Embarked'])\n",
    "titanic = pd.concat([titanic, dummies], axis=1) \n",
    "\n",
    "# print first five rows\n",
    "titanic.head()"
   ]
  },
  {
   "cell_type": "code",
   "execution_count": 5,
   "metadata": {},
   "outputs": [
    {
     "data": {
      "text/plain": [
       "0.9649122807017544"
      ]
     },
     "execution_count": 5,
     "metadata": {},
     "output_type": "execute_result"
    }
   ],
   "source": [
    "### Decision tree model ###\n",
    "\n",
    "from sklearn.tree import DecisionTreeClassifier as DTC\n",
    "\n",
    "# define model\n",
    "tree_model = DTC(criterion='entropy')\n",
    "\n",
    "# fit model to data\n",
    "clf = tree_model.fit(titanic[['Pclass', 'Sex', 'Age', 'SibSp', 'Parch', 'Fare', \n",
    "                              'EmbarkC', 'EmbarkQ', 'EmbarkS']], titanic['Survived'])\n",
    "\n",
    "# evaluate model accuracy\n",
    "clf.score(titanic[['Pclass', 'Sex', 'Age', 'SibSp', 'Parch', 'Fare','EmbarkC', \n",
    "                   'EmbarkQ', 'EmbarkS']], titanic['Survived'])"
   ]
  },
  {
   "cell_type": "code",
   "execution_count": 6,
   "metadata": {},
   "outputs": [
    {
     "data": {
      "image/png": "[encoded data removed]",
      "text/plain": [
       "<matplotlib.figure.Figure at 0x1fd97315630>"
      ]
     },
     "metadata": {},
     "output_type": "display_data"
    }
   ],
   "source": [
    "### Plot the decision tree ###\n",
    "\n",
    "from sklearn.tree import plot_tree\n",
    "import matplotlib.pyplot as plt\n",
    "%matplotlib inline\n",
    "\n",
    "plt.figure()\n",
    "plot_tree(clf, filled=True)\n",
    "plt.show()"
   ]
  },
  {
   "cell_type": "code",
   "execution_count": 7,
   "metadata": {},
   "outputs": [
    {
     "data": {
      "text/plain": [
       "0.816933638443936"
      ]
     },
     "execution_count": 7,
     "metadata": {},
     "output_type": "execute_result"
    }
   ],
   "source": [
    "### Build a simpler model ###\n",
    "\n",
    "tree_model = DTC(criterion='entropy', max_depth=3) \n",
    "\n",
    "# fit model to data\n",
    "clf = tree_model.fit(titanic[['Pclass', 'Sex', 'Age', 'SibSp', 'Parch', 'Fare', \n",
    "                              'EmbarkC', 'EmbarkQ', 'EmbarkS']], titanic['Survived'])\n",
    "\n",
    "# evaluate model accuracy\n",
    "clf.score(titanic[['Pclass', 'Sex', 'Age', 'SibSp', 'Parch', 'Fare','EmbarkC', \n",
    "                   'EmbarkQ', 'EmbarkS']], titanic['Survived'])"
   ]
  },
  {
   "cell_type": "code",
   "execution_count": 8,
   "metadata": {},
   "outputs": [
    {
     "name": "stdout",
     "output_type": "stream",
     "text": [
      "              precision    recall  f1-score   support\n",
      "\n",
      "    Perished       0.84      0.88      0.86       810\n",
      "    Survived       0.78      0.72      0.75       501\n",
      "\n",
      "    accuracy                           0.82      1311\n",
      "   macro avg       0.81      0.80      0.80      1311\n",
      "weighted avg       0.82      0.82      0.82      1311\n",
      "\n"
     ]
    }
   ],
   "source": [
    "### Confusion matrix ###\n",
    "\n",
    "from sklearn.metrics import classification_report\n",
    "pred = clf.predict(titanic[['Pclass', 'Sex', 'Age', 'SibSp',\n",
    "                            'Parch', 'Fare', 'EmbarkC', 'EmbarkQ', 'EmbarkS']])\n",
    "print(classification_report(titanic['Survived'], pred, \n",
    "                            target_names=[\"Perished\", \"Survived\"]))"
   ]
  },
  {
   "cell_type": "code",
   "execution_count": 9,
   "metadata": {},
   "outputs": [
    {
     "data": {
      "text/plain": [
       "<matplotlib.axes._subplots.AxesSubplot at 0x1fd9796a710>"
      ]
     },
     "execution_count": 9,
     "metadata": {},
     "output_type": "execute_result"
    },
    {
     "data": {
      "image/png": "[encoded data removed]",
      "text/plain": [
       "<matplotlib.figure.Figure at 0x1fd97962630>"
      ]
     },
     "metadata": {},
     "output_type": "display_data"
    }
   ],
   "source": [
    "### Feature importance ###\n",
    "\n",
    "feat_importances = pd.Series(clf.feature_importances_,\n",
    "                             index=titanic[['Pclass', 'Sex', 'Age', 'SibSp', \n",
    "                                            'Parch', 'Fare', 'EmbarkC', \n",
    "                                            'EmbarkQ', 'EmbarkS']].columns)\n",
    "feat_importances.plot(kind='barh')"
   ]
  },
  {
   "cell_type": "code",
   "execution_count": null,
   "metadata": {
    "collapsed": true
   },
   "outputs": [],
   "source": []
  }
 ],
 "metadata": {
  "kernelspec": {
   "display_name": "Python [default]",
   "language": "python",
   "name": "python3"
  },
  "language_info": {
   "codemirror_mode": {
    "name": "ipython",
    "version": 3
   },
   "file_extension": ".py",
   "mimetype": "text/x-python",
   "name": "python",
   "nbconvert_exporter": "python",
   "pygments_lexer": "ipython3",
   "version": "3.5.3"
  }
 },
 "nbformat": 4,
 "nbformat_minor": 2
}
