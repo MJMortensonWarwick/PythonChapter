{
 "cells": [
  {
   "cell_type": "code",
   "execution_count": 12,
   "metadata": {},
   "outputs": [
    {
     "data": {
      "text/plain": [
       "2.375"
      ]
     },
     "execution_count": 12,
     "metadata": {},
     "output_type": "execute_result"
    }
   ],
   "source": [
    "import warnings\n",
    "warnings.simplefilter(action='ignore', category=FutureWarning)\n",
    "\n",
    "### Data types and variables ###\n",
    "age = 20\n",
    "name = \"John\"\n",
    "single = True\n",
    "\n",
    "# Variable manipulation\n",
    "ageDays = age * 365\n",
    "\n",
    "# Lists\n",
    "numList = [1, 2, 3, 3.5] # numeric list (integers/floats)\n",
    "strList = [\"1\", \"2\", \"3\", \"4\"] # string list\n",
    "logList = [True, True, False, True] # Boolean list\n",
    "mixedList = [True, 1, \"2\"]\n",
    "\n",
    "# Averaging a list\n",
    "import numpy as np  # np is the conventional name\n",
    "np.mean(numList)"
   ]
  },
  {
   "cell_type": "code",
   "execution_count": 13,
   "metadata": {},
   "outputs": [
    {
     "name": "stdout",
     "output_type": "stream",
     "text": [
      "[[1 2 3]\n",
      " [4 5 6]]\n",
      "[1 2 3]\n",
      "[2 5]\n"
     ]
    }
   ],
   "source": [
    "### Arrays ###\n",
    "import numpy as np\n",
    "\n",
    "myMatrix = np.array([[1, 2, 3], [4, 5, 6]])\n",
    "print(myMatrix)\n",
    "\n",
    "# Access the first row\n",
    "print(myMatrix[0]) # note that the first item in Python\n",
    "      # is listed as position 0 rather than position 1)        \n",
    "\n",
    "# Access the second column\n",
    "print(myMatrix[:,1])"
   ]
  },
  {
   "cell_type": "code",
   "execution_count": 14,
   "metadata": {},
   "outputs": [
    {
     "name": "stdout",
     "output_type": "stream",
     "text": [
      "c1     int64\n",
      "c2    object\n",
      "c3    object\n",
      "dtype: object\n",
      "c1    object\n",
      "c2    object\n",
      "c3    object\n",
      "dtype: object\n"
     ]
    },
    {
     "data": {
      "text/plain": [
       "'A'"
      ]
     },
     "execution_count": 14,
     "metadata": {},
     "output_type": "execute_result"
    }
   ],
   "source": [
    "### Dataframes ###\n",
    "import pandas as pd # again, ‘pd’ is the convention\n",
    "my_DF = pd.DataFrame([[1, \"a\", \"A\"], [2, \"b\", \"B\"], \n",
    "                      [3, \"c\", \"C\"], [4, \"d\", \"D\"], \n",
    "                      [5, \"e\", \"E\"]], columns=[\"c1\", \"c2\", \"c3\"])\n",
    "\n",
    "print(my_DF.dtypes) # print data types\n",
    "\n",
    "# Change data types\n",
    "my_DF[\"c1\"] = my_DF[\"c1\"].astype(str)\n",
    "print(my_DF.dtypes) # print data types\n",
    "\n",
    "# Access part of a dataframe\n",
    "my_DF.iloc[0] # read the first row, all columns\n",
    "my_DF.ix[2] # read the third column, all rows\n",
    "my_DF.iloc[0,2] # read cell in row 1, column 3"
   ]
  },
  {
   "cell_type": "code",
   "execution_count": null,
   "metadata": {
    "collapsed": true
   },
   "outputs": [],
   "source": []
  }
 ],
 "metadata": {},
 "nbformat": 4,
 "nbformat_minor": 2
}
