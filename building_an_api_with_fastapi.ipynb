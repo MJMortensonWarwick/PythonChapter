{
  "nbformat": 4,
  "nbformat_minor": 0,
  "metadata": {
    "colab": {
      "name": "Untitled6.ipynb",
      "provenance": [],
      "authorship_tag": "ABX9TyOKi+oUtNt+dZEDbjM8F3r+",
      "include_colab_link": true
    },
    "kernelspec": {
      "name": "python3",
      "display_name": "Python 3"
    },
    "language_info": {
      "name": "python"
    }
  },
  "cells": [
    {
      "cell_type": "markdown",
      "metadata": {
        "id": "view-in-github",
        "colab_type": "text"
      },
      "source": [
        "<a href=\"https://colab.research.google.com/github/MJMortensonWarwick/PythonChapter/blob/master/building_an_api_with_fastapi.ipynb\" target=\"_parent\"><img src=\"https://colab.research.google.com/assets/colab-badge.svg\" alt=\"Open In Colab\"/></a>"
      ]
    },
    {
      "cell_type": "markdown",
      "source": [
        "# Building an API with FastAPI\n",
        "In this workbook we will building a relatively simple API and serving it on our local machine (localhost). People have built APIs with Python for some time, and packages such as _flask_ have been popular for doing so. However, in the last couple of years _FastAPI_ has become a very popular solution for this, and will be our chosen package. We need to begin by installing as normal (note we'll be using _pyngrok_ as before):"
      ],
      "metadata": {
        "id": "MUBq7uB20nXh"
      }
    },
    {
      "cell_type": "code",
      "execution_count": 1,
      "metadata": {
        "colab": {
          "base_uri": "https://localhost:8080/"
        },
        "id": "xvft68SV0h4N",
        "outputId": "5f32019b-f266-4a70-97e5-33494331a9c6"
      },
      "outputs": [
        {
          "output_type": "stream",
          "name": "stdout",
          "text": [
            "Collecting fastapi[all]\n",
            "  Downloading fastapi-0.75.0-py3-none-any.whl (54 kB)\n",
            "\u001b[K     |████████████████████████████████| 54 kB 937 kB/s \n",
            "\u001b[?25hCollecting starlette==0.17.1\n",
            "  Downloading starlette-0.17.1-py3-none-any.whl (58 kB)\n",
            "\u001b[K     |████████████████████████████████| 58 kB 3.2 MB/s \n",
            "\u001b[?25hCollecting pydantic!=1.7,!=1.7.1,!=1.7.2,!=1.7.3,!=1.8,!=1.8.1,<2.0.0,>=1.6.2\n",
            "  Downloading pydantic-1.9.0-cp37-cp37m-manylinux_2_17_x86_64.manylinux2014_x86_64.whl (10.9 MB)\n",
            "\u001b[K     |████████████████████████████████| 10.9 MB 27.2 MB/s \n",
            "\u001b[?25hRequirement already satisfied: jinja2<4.0.0,>=2.11.2 in /usr/local/lib/python3.7/dist-packages (from fastapi[all]) (2.11.3)\n",
            "Collecting orjson<4.0.0,>=3.2.1\n",
            "  Downloading orjson-3.6.7-cp37-cp37m-manylinux_2_24_x86_64.whl (255 kB)\n",
            "\u001b[K     |████████████████████████████████| 255 kB 52.5 MB/s \n",
            "\u001b[?25hCollecting pyyaml<6.0.0,>=5.3.1\n",
            "  Downloading PyYAML-5.4.1-cp37-cp37m-manylinux1_x86_64.whl (636 kB)\n",
            "\u001b[K     |████████████████████████████████| 636 kB 46.9 MB/s \n",
            "\u001b[?25hRequirement already satisfied: itsdangerous<3.0.0,>=1.1.0 in /usr/local/lib/python3.7/dist-packages (from fastapi[all]) (1.1.0)\n",
            "Collecting python-multipart<0.0.6,>=0.0.5\n",
            "  Downloading python-multipart-0.0.5.tar.gz (32 kB)\n",
            "Collecting uvicorn[standard]<0.16.0,>=0.12.0\n",
            "  Downloading uvicorn-0.15.0-py3-none-any.whl (54 kB)\n",
            "\u001b[K     |████████████████████████████████| 54 kB 2.5 MB/s \n",
            "\u001b[?25hCollecting ujson<5.0.0,>=4.0.1\n",
            "  Downloading ujson-4.3.0-cp37-cp37m-manylinux_2_17_x86_64.manylinux2014_x86_64.whl (216 kB)\n",
            "\u001b[K     |████████████████████████████████| 216 kB 68.2 MB/s \n",
            "\u001b[?25hCollecting requests<3.0.0,>=2.24.0\n",
            "  Downloading requests-2.27.1-py2.py3-none-any.whl (63 kB)\n",
            "\u001b[K     |████████████████████████████████| 63 kB 1.7 MB/s \n",
            "\u001b[?25hCollecting email_validator<2.0.0,>=1.1.1\n",
            "  Downloading email_validator-1.1.3-py2.py3-none-any.whl (18 kB)\n",
            "Collecting anyio<4,>=3.0.0\n",
            "  Downloading anyio-3.5.0-py3-none-any.whl (79 kB)\n",
            "\u001b[K     |████████████████████████████████| 79 kB 6.8 MB/s \n",
            "\u001b[?25hRequirement already satisfied: typing-extensions in /usr/local/lib/python3.7/dist-packages (from starlette==0.17.1->fastapi[all]) (3.10.0.2)\n",
            "Requirement already satisfied: idna>=2.8 in /usr/local/lib/python3.7/dist-packages (from anyio<4,>=3.0.0->starlette==0.17.1->fastapi[all]) (2.10)\n",
            "Collecting sniffio>=1.1\n",
            "  Downloading sniffio-1.2.0-py3-none-any.whl (10 kB)\n",
            "Collecting dnspython>=1.15.0\n",
            "  Downloading dnspython-2.2.0-py3-none-any.whl (266 kB)\n",
            "\u001b[K     |████████████████████████████████| 266 kB 47.2 MB/s \n",
            "\u001b[?25hRequirement already satisfied: MarkupSafe>=0.23 in /usr/local/lib/python3.7/dist-packages (from jinja2<4.0.0,>=2.11.2->fastapi[all]) (2.0.1)\n",
            "Requirement already satisfied: six>=1.4.0 in /usr/local/lib/python3.7/dist-packages (from python-multipart<0.0.6,>=0.0.5->fastapi[all]) (1.15.0)\n",
            "Requirement already satisfied: urllib3<1.27,>=1.21.1 in /usr/local/lib/python3.7/dist-packages (from requests<3.0.0,>=2.24.0->fastapi[all]) (1.24.3)\n",
            "Requirement already satisfied: charset-normalizer~=2.0.0 in /usr/local/lib/python3.7/dist-packages (from requests<3.0.0,>=2.24.0->fastapi[all]) (2.0.12)\n",
            "Requirement already satisfied: certifi>=2017.4.17 in /usr/local/lib/python3.7/dist-packages (from requests<3.0.0,>=2.24.0->fastapi[all]) (2021.10.8)\n",
            "Requirement already satisfied: click>=7.0 in /usr/local/lib/python3.7/dist-packages (from uvicorn[standard]<0.16.0,>=0.12.0->fastapi[all]) (7.1.2)\n",
            "Collecting asgiref>=3.4.0\n",
            "  Downloading asgiref-3.5.0-py3-none-any.whl (22 kB)\n",
            "Collecting h11>=0.8\n",
            "  Downloading h11-0.13.0-py3-none-any.whl (58 kB)\n",
            "\u001b[K     |████████████████████████████████| 58 kB 5.3 MB/s \n",
            "\u001b[?25hCollecting websockets>=9.1\n",
            "  Downloading websockets-10.2-cp37-cp37m-manylinux_2_5_x86_64.manylinux1_x86_64.manylinux_2_12_x86_64.manylinux2010_x86_64.whl (111 kB)\n",
            "\u001b[K     |████████████████████████████████| 111 kB 48.0 MB/s \n",
            "\u001b[?25hCollecting watchgod>=0.6\n",
            "  Downloading watchgod-0.7-py3-none-any.whl (11 kB)\n",
            "Collecting httptools==0.2.*\n",
            "  Downloading httptools-0.2.0-cp37-cp37m-manylinux1_x86_64.whl (344 kB)\n",
            "\u001b[K     |████████████████████████████████| 344 kB 44.0 MB/s \n",
            "\u001b[?25hCollecting uvloop!=0.15.0,!=0.15.1,>=0.14.0\n",
            "  Downloading uvloop-0.16.0-cp37-cp37m-manylinux_2_12_x86_64.manylinux2010_x86_64.whl (3.8 MB)\n",
            "\u001b[K     |████████████████████████████████| 3.8 MB 49.2 MB/s \n",
            "\u001b[?25hCollecting python-dotenv>=0.13\n",
            "  Downloading python_dotenv-0.19.2-py2.py3-none-any.whl (17 kB)\n",
            "Building wheels for collected packages: python-multipart\n",
            "  Building wheel for python-multipart (setup.py) ... \u001b[?25l\u001b[?25hdone\n",
            "  Created wheel for python-multipart: filename=python_multipart-0.0.5-py3-none-any.whl size=31678 sha256=fccc3411f8911434237685a6b117070e6adcd04477d4e4b25b6212e46fc795de\n",
            "  Stored in directory: /root/.cache/pip/wheels/2c/41/7c/bfd1c180534ffdcc0972f78c5758f89881602175d48a8bcd2c\n",
            "Successfully built python-multipart\n",
            "Installing collected packages: sniffio, h11, asgiref, anyio, websockets, watchgod, uvloop, uvicorn, starlette, pyyaml, python-dotenv, pydantic, httptools, dnspython, ujson, requests, python-multipart, orjson, fastapi, email-validator\n",
            "  Attempting uninstall: pyyaml\n",
            "    Found existing installation: PyYAML 3.13\n",
            "    Uninstalling PyYAML-3.13:\n",
            "      Successfully uninstalled PyYAML-3.13\n",
            "  Attempting uninstall: requests\n",
            "    Found existing installation: requests 2.23.0\n",
            "    Uninstalling requests-2.23.0:\n",
            "      Successfully uninstalled requests-2.23.0\n",
            "\u001b[31mERROR: pip's dependency resolver does not currently take into account all the packages that are installed. This behaviour is the source of the following dependency conflicts.\n",
            "google-colab 1.0.0 requires requests~=2.23.0, but you have requests 2.27.1 which is incompatible.\n",
            "datascience 0.10.6 requires folium==0.2.1, but you have folium 0.8.3 which is incompatible.\u001b[0m\n",
            "Successfully installed anyio-3.5.0 asgiref-3.5.0 dnspython-2.2.0 email-validator-1.1.3 fastapi-0.75.0 h11-0.13.0 httptools-0.2.0 orjson-3.6.7 pydantic-1.9.0 python-dotenv-0.19.2 python-multipart-0.0.5 pyyaml-5.4.1 requests-2.27.1 sniffio-1.2.0 starlette-0.17.1 ujson-4.3.0 uvicorn-0.15.0 uvloop-0.16.0 watchgod-0.7 websockets-10.2\n",
            "Collecting pyngrok\n",
            "  Downloading pyngrok-5.1.0.tar.gz (745 kB)\n",
            "\u001b[K     |████████████████████████████████| 745 kB 4.4 MB/s \n",
            "\u001b[?25hRequirement already satisfied: PyYAML in /usr/local/lib/python3.7/dist-packages (from pyngrok) (5.4.1)\n",
            "Building wheels for collected packages: pyngrok\n",
            "  Building wheel for pyngrok (setup.py) ... \u001b[?25l\u001b[?25hdone\n",
            "  Created wheel for pyngrok: filename=pyngrok-5.1.0-py3-none-any.whl size=19007 sha256=f64820d1a33db883263518c819336d5844c68187f3fff4ce220ee5d458ef3798\n",
            "  Stored in directory: /root/.cache/pip/wheels/bf/e6/af/ccf6598ecefecd44104069371795cb9b3afbcd16987f6ccfb3\n",
            "Successfully built pyngrok\n",
            "Installing collected packages: pyngrok\n",
            "Successfully installed pyngrok-5.1.0\n"
          ]
        }
      ],
      "source": [
        "!pip install \"fastapi[all]\"\n",
        "!pip install pyngrok"
      ]
    },
    {
      "cell_type": "markdown",
      "source": [
        "We will also add our authtoken to the system same as we did for our _flask_ tutorial. Update this string with your own authtoken. "
      ],
      "metadata": {
        "id": "mWhD62rm4pNl"
      }
    },
    {
      "cell_type": "code",
      "source": [
        "!ngrok authtoken \"AUTHTOKEN\""
      ],
      "metadata": {
        "colab": {
          "base_uri": "https://localhost:8080/"
        },
        "id": "V87o-4qv1S0O",
        "outputId": "373b0a72-396e-4ec5-e228-f3e9bf3114aa"
      },
      "execution_count": 2,
      "outputs": [
        {
          "output_type": "stream",
          "name": "stdout",
          "text": [
            "Authtoken saved to configuration file: /root/.ngrok2/ngrok.yml\n"
          ]
        }
      ]
    },
    {
      "cell_type": "markdown",
      "source": [
        "Next, we will make some data that can be served from our API:"
      ],
      "metadata": {
        "id": "I8dC0w9h47iV"
      }
    },
    {
      "cell_type": "code",
      "source": [
        "from fastapi import FastAPI\n",
        "\n",
        "datastore = {1001: {\"name\": \"Jordan Bruno\", \"teacher_rank\": 7},\n",
        "            1002: {\"name\": \"Liping Zheng\", \"teacher_rank\": 2}, \n",
        "            1003: {\"name\": \"Michael Mortenson\", \"teacher_rank\": 5}\n",
        "            }"
      ],
      "metadata": {
        "id": "viQvhy_01rrT"
      },
      "execution_count": 1,
      "outputs": []
    },
    {
      "cell_type": "markdown",
      "source": [
        "After importing the package we build a simple data dictionary with three staff members each of which have an ID, name and their overall ranking as a teacher as maintained by WMG (as of 2021/12/02). Of course, in practice we would use a proper datastore of some kind, but this will be enough to serve our purposes. Our next task is to build some basic API functionality:"
      ],
      "metadata": {
        "id": "h1Yz1ATt5CAN"
      }
    },
    {
      "cell_type": "code",
      "source": [
        "app = FastAPI()\n",
        "\n",
        "@app.get(\"/all\")\n",
        "async def get_all():\n",
        "\treturn datastore"
      ],
      "metadata": {
        "id": "Sw-RC2YL1u0z"
      },
      "execution_count": 3,
      "outputs": []
    },
    {
      "cell_type": "markdown",
      "source": [
        "Our code starts by declaring a variable \"app\" as a FastAPI object. Having done this we can link further code to this object using decorators. This is shown in the line:\n",
        "\n",
        "\\@app.get(\"/all\")\n",
        "\n",
        "Here we do a few things. Firstly the @app part acts as our decorator (@{variable} means we are declaring the below function as a part of the variable given). Secondly we specify our function will work for any GET request to our given endpoint (URL). Lastly we specify the path element from our endpoint (the bit that comes after our domain) that we associate with this request. In this case we will trigger this function anytime a user hits the endpoint /all. I.e. if our domain was api.jordanbruno.com this function triggers anytime someone calls https://api.jordanbruno.com/all.\n",
        "\n",
        "Underneath our decorator we specify a function much like we have in the bootcamp previously. There is one difference in our fist line which is that we declare this to be an asynchronus function with async. This is not really necessary for this particular task but it is usually good practice. In the most simplistic terms, async just tells the computer that the function may take some time and that it can work on other tasks while waiting. See more here. Finally we have a return statement, which in this case tells the API to return all data in the datastore.\n",
        "\n",
        "While a useful function, in practice we would more likely want users to be able to select specific data rather than everything, and we can do this by having them pass information (e.g. ids, names, etc.) in the request (the endpoint)."
      ],
      "metadata": {
        "id": "xgT2549i5G8l"
      }
    },
    {
      "cell_type": "code",
      "source": [
        "@app.get(\"/ids/{id}\")\n",
        "async def get_by_id(id: int):\n",
        "\ttry:\n",
        "\t\treturn datastore[id] # subset the dictionary by the ID\n",
        "\texcept:\n",
        "\t\treturn \"No records found\" # return if key does not exist"
      ],
      "metadata": {
        "id": "UD8BQHY911e_"
      },
      "execution_count": 4,
      "outputs": []
    },
    {
      "cell_type": "markdown",
      "source": [
        "Much of this is unchanged except we now have a changable variable (\"id\") which can be used to specify a particular staff member. This forms part of the endpoint (the text of the API call - shown as \"{id}\" in the decorator command). It also is used in the function as an expected parameter - \"(id)\", which we delare as an int (rather than string as it would be in the endpoint path) - and also then in the return statement to filter the database dictionary. (Note we also use try and except to deal with the possible case of someone submitting an ID which is not in our database).\n",
        "\n",
        "In other words, a user can make a call to\n",
        "\n",
        "https://api.jordanbruno.com/ids/1003\n",
        "\n",
        "and expect to see the following data returned:\n",
        "\n",
        "_name: Michael Mortenson_<br>\n",
        "_teacherrank: 5_\n",
        "\n",
        "We can build on this concept by creating slightly more complicated functions to subset the dictionary. Such as:"
      ],
      "metadata": {
        "id": "SCa4K8UF5hBj"
      }
    },
    {
      "cell_type": "code",
      "source": [
        "@app.get(\"/names/{name}\")\n",
        "async def get_by_name(name):\n",
        "\toutput = \"No records found\" # placeholder if no value matched\n",
        "\tfor sid in datastore:\n",
        "\t\tif datastore[sid]['name'] == name: # match by the name value\n",
        "\t\t\toutput = datastore[sid] # replace placeholder with record\n",
        "\treturn output"
      ],
      "metadata": {
        "id": "0bHORQV-16UC"
      },
      "execution_count": 5,
      "outputs": []
    },
    {
      "cell_type": "markdown",
      "source": [
        "Ultimately we have the same process here, the only change is that we need to match a value which is nested in the dictionary. We achieve this by looping through the dictionary until we can match the \"name\". Note that this is not necessarily the most efficient way to do this (we could use list comprehension or similar) and also we will have issues if there is more than one record with the same name (in this case only the last record will be displayed). However, it will work for our purposes.\n",
        "\n",
        "We can put all this code together (as below). In practice we want this code to be run as a standalone Python file (outside of Jupyter). We could save from here or copy and paste into a text/code editor and save from there. \n",
        "\n",
        "However, given this is \"just for fun\" we can rull the whole think from ngrok as we'll do below. "
      ],
      "metadata": {
        "id": "3KbGRimK5y4T"
      }
    },
    {
      "cell_type": "code",
      "source": [
        "from fastapi import FastAPI\n",
        "\n",
        "datastore = {1001: {\"name\": \"Jordan Bruno\", \"teacher_rank\": 7},\n",
        "\t\t\t1002: {\"name\": \"Liping Zheng\", \"teacher_rank\": 2}, \n",
        "\t\t\t1003: {\"name\": \"Michael Mortenson\", \"teacher_rank\": 5}\n",
        "\t\t\t}\n",
        "\n",
        "app = FastAPI()\n",
        "\n",
        "@app.get(\"/all\")\n",
        "async def get_all():\n",
        "\treturn datastore\n",
        "\n",
        "@app.get(\"/ids/{id}\")\n",
        "async def get_by_id(id: int):\n",
        "\ttry:\n",
        "\t\treturn datastore[id] # subset the dictionary by the ID\n",
        "\texcept:\n",
        "\t\treturn \"No records found\" # return if key does not exist\n",
        "\t\n",
        "@app.get(\"/names/{name}\")\n",
        "async def get_by_name(name):\n",
        "\toutput = \"No records found\" # placeholder if no value matched\n",
        "\tfor sid in datastore:\n",
        "\t\tif datastore[sid]['name'] == name: # match by the name value\n",
        "\t\t\toutput = datastore[sid] # replace placeholder with record\n",
        "\treturn output"
      ],
      "metadata": {
        "id": "zC7Y-XGb1-rv"
      },
      "execution_count": 6,
      "outputs": []
    },
    {
      "cell_type": "markdown",
      "source": [
        "Our last job then is to create a Ngrok connection and start the _uvicorn_ web server. We'll also print out some friendly URLs for the app itself and for the documentation. Let's get everything running and we can check the results:"
      ],
      "metadata": {
        "id": "i8HrCICg6O3W"
      }
    },
    {
      "cell_type": "code",
      "source": [
        "import nest_asyncio\n",
        "from pyngrok import ngrok\n",
        "import uvicorn\n",
        "\n",
        "ngrok_tunnel = ngrok.connect(8000)\n",
        "print('Public URL:', ngrok_tunnel.public_url+'/all')\n",
        "print('Doc URL:', ngrok_tunnel.public_url+'/docs')\n",
        "nest_asyncio.apply()\n",
        "uvicorn.run(app, port=8000)"
      ],
      "metadata": {
        "colab": {
          "base_uri": "https://localhost:8080/"
        },
        "id": "_LvFNVTH2YDy",
        "outputId": "03d1b00e-027b-4a10-907b-4932aa0e5708"
      },
      "execution_count": null,
      "outputs": [
        {
          "output_type": "stream",
          "name": "stderr",
          "text": [
            "INFO:     Started server process [206]\n",
            "INFO:     Waiting for application startup.\n",
            "INFO:     Application startup complete.\n",
            "INFO:     Uvicorn running on http://127.0.0.1:8000 (Press CTRL+C to quit)\n"
          ]
        },
        {
          "output_type": "stream",
          "name": "stdout",
          "text": [
            "Public URL: http://c748-35-194-177-132.ngrok.io/all\n",
            "Doc URL: http://c748-35-194-177-132.ngrok.io/docs\n",
            "INFO:     81.111.0.26:0 - \"GET /all HTTP/1.1\" 200 OK\n",
            "INFO:     81.111.0.26:0 - \"GET /favicon.ico HTTP/1.1\" 404 Not Found\n",
            "INFO:     81.111.0.26:0 - \"GET /docs HTTP/1.1\" 200 OK\n",
            "INFO:     81.111.0.26:0 - \"GET /openapi.json HTTP/1.1\" 200 OK\n"
          ]
        }
      ]
    },
    {
      "cell_type": "markdown",
      "source": [
        "As you can hopefully see, we have now built the API and routed users to our \"/all\" endpoint. Have a play with some of the other options ... e.g. selecting users by ID or by name. As a note, for names we need to add %20 to represent spaces. E.g. \"/name/Jordan Bruno\" would be \"/name/Jordan%20Bruno\" (also note it will be case sensitive unlike normal URLs). You can also check out the docs that have been automatically created in the industry-standard Swagger/OpenAPI standard.\n",
        "\n",
        "## Exercise\n",
        "If you have time, try creating your own for the Project Selection System product canvas we created on Monday. What would be a suitable set of endpoints? "
      ],
      "metadata": {
        "id": "BFtUQCuF7W7p"
      }
    }
  ]
}